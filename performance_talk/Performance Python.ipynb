{
 "cells": [
  {
   "cell_type": "markdown",
   "id": "185023d8",
   "metadata": {},
   "source": [
    "# Performance Python\n",
    "\n",
    "In physics, we want to do calculations to either analyze existing data or to model physical processes. Very often, numerical methods courses will use a single programming language to teach various methods to do these types of calculations. The issue with this is that research groups will be using a variety of different languages, and the specifics of any particular numerical technique does not translate from one language to another.\n",
    "\n",
    "In this short talk, we will take a look at an easy problem. We will use matrix multiplication as our sample problem to see what happens when you don't take the eccentricities of your language into account."
   ]
  },
  {
   "cell_type": "markdown",
   "id": "7ee1216e",
   "metadata": {},
   "source": [
    "## Naive code reuse\n",
    "\n",
    "Many examples and texts will have code examples for various techniques written in older primitive languages, such as C or FORTRAN. These types of languages are strongly typed, and have no syntax to easily support techniques like object oriented programming. When you want to use these numerical techniques in more modern languages, you may see some unintended consequences.\n",
    "\n",
    "We will start by creating our initial two matrices for the rest of the talk. We will use the numpy module to generate a couple of large matrices with random floating point numbers in them."
   ]
  },
  {
   "cell_type": "code",
   "execution_count": 12,
   "id": "d170d833",
   "metadata": {},
   "outputs": [],
   "source": [
    "import numpy as np\n",
    "import math\n",
    "rows = 200\n",
    "cols = 200\n",
    "A = np.random.random((rows,cols))\n",
    "B = np.random.random((rows,cols))"
   ]
  },
  {
   "cell_type": "markdown",
   "id": "6e7769f4",
   "metadata": {},
   "source": [
    "From here, we might be tempted to just do the naive copy-paste of some matrix multiplication routine from C. When we do that, we might get something that looks like the following:"
   ]
  },
  {
   "cell_type": "code",
   "execution_count": 10,
   "id": "ba0d2ded",
   "metadata": {},
   "outputs": [
    {
     "name": "stdout",
     "output_type": "stream",
     "text": [
      "10.6 s ± 18.3 ms per loop (mean ± std. dev. of 7 runs, 1 loop each)\n"
     ]
    }
   ],
   "source": [
    "%%timeit\n",
    "C = np.zeros((rows,cols))\n",
    "\n",
    "i = 0\n",
    "while (i < rows):\n",
    "    j = 0\n",
    "    while (j < cols):\n",
    "        k = 0\n",
    "        while (k < rows):\n",
    "            C[i,j] += A[i,k] * B[k,j]\n",
    "            k += 1\n",
    "        j += 1\n",
    "    i += 1\n"
   ]
  },
  {
   "cell_type": "code",
   "execution_count": 65,
   "id": "d84f7db3",
   "metadata": {},
   "outputs": [
    {
     "data": {
      "text/plain": [
       "8297.66274749814"
      ]
     },
     "execution_count": 65,
     "metadata": {},
     "output_type": "execute_result"
    }
   ],
   "source": [
    "C[1,1]"
   ]
  },
  {
   "cell_type": "markdown",
   "id": "65f5566e",
   "metadata": {},
   "source": [
    "In jupyter, we have access to builtin functions to manage timing of code. This is the '%%timeit' at the top of the following code block.\n",
    "\n",
    "This is far from performant. The issue with this type of code is the object model in Python. Core Python is an untyped language. This means that any variable name can be used to refer to any type of object. So, whenever you use a variable anywhere in your code, Python needs to check what is referenced by that name and whether the operation you want to execute can be applied to that type of object. This means that Python is doing checks on every iteration of the loops above.\n",
    "\n",
    "We can remove some of these checks by doing the loops in a more Pythonic way."
   ]
  },
  {
   "cell_type": "code",
   "execution_count": 11,
   "id": "b99d7717",
   "metadata": {},
   "outputs": [
    {
     "name": "stdout",
     "output_type": "stream",
     "text": [
      "9.8 s ± 18.6 ms per loop (mean ± std. dev. of 7 runs, 1 loop each)\n"
     ]
    }
   ],
   "source": [
    "%%timeit\n",
    "C = np.zeros((rows,cols))\n",
    "\n",
    "for i in range(rows):\n",
    "    for j in range(cols):\n",
    "        for k in range(rows):\n",
    "            C[i,j] += A[i,k] * B[k,j]\n"
   ]
  },
  {
   "cell_type": "code",
   "execution_count": 67,
   "id": "61544dbc",
   "metadata": {},
   "outputs": [
    {
     "data": {
      "text/plain": [
       "8297.66274749814"
      ]
     },
     "execution_count": 67,
     "metadata": {},
     "output_type": "execute_result"
    }
   ],
   "source": [
    "C[1,1]"
   ]
  },
  {
   "cell_type": "markdown",
   "id": "93deb4ed",
   "metadata": {},
   "source": [
    "This speed things up a bit, but not as much we could do.\n",
    "\n",
    "\n",
    "## Using modules\n",
    "\n",
    "A huge advantage of Python is the large environment of modules made available. We already cheated a bit by using numpy to create our matrices above. Below, we can see the effects of including more and more of the functionality of numpy. As an example, we'll look at applying a trigonometric function to an array of values. The purely Python version looks like"
   ]
  },
  {
   "cell_type": "code",
   "execution_count": 23,
   "id": "1363b871",
   "metadata": {},
   "outputs": [
    {
     "name": "stdout",
     "output_type": "stream",
     "text": [
      "5.22 s ± 82.8 ms per loop (mean ± std. dev. of 7 runs, 1 loop each)\n"
     ]
    }
   ],
   "source": [
    "%%timeit\n",
    "\n",
    "size = 10000000\n",
    "vals = list(range(size))\n",
    "ans = list(range(size))\n",
    "for i in range(size):\n",
    "    ans[i] = math.tan(vals[i])"
   ]
  },
  {
   "cell_type": "markdown",
   "id": "207f677a",
   "metadata": {},
   "source": [
    "It doesn't seem too bad in this case, since the work being done isn't too complicated. But it could be much worse for a more computationally intensive job. Python is wasting time on every call to tan, trying to figure out whether it can apply that function or not. We can force strict typing in Python by using numpy objects. Also, numpy provides functions that operate on entire objects at once."
   ]
  },
  {
   "cell_type": "code",
   "execution_count": 31,
   "id": "6f6e9528",
   "metadata": {},
   "outputs": [
    {
     "name": "stdout",
     "output_type": "stream",
     "text": [
      "740 ms ± 14.4 ms per loop (mean ± std. dev. of 7 runs, 1 loop each)\n"
     ]
    }
   ],
   "source": [
    "%%timeit\n",
    "size = 10000000\n",
    "nd = np.arange(size)\n",
    "nd_ans = np.tan(nd)"
   ]
  },
  {
   "cell_type": "code",
   "execution_count": 25,
   "id": "9c0a933a",
   "metadata": {},
   "outputs": [],
   "source": [
    "size = 1000000\n",
    "vals = list(range(size))\n",
    "ans = list(range(size))\n",
    "nd = np.arange(size)\n",
    "nd_ans = np.arange(size)"
   ]
  },
  {
   "cell_type": "code",
   "execution_count": 28,
   "id": "20c6ae0e",
   "metadata": {},
   "outputs": [
    {
     "name": "stdout",
     "output_type": "stream",
     "text": [
      "473 ms ± 7.33 ms per loop (mean ± std. dev. of 7 runs, 1 loop each)\n"
     ]
    }
   ],
   "source": [
    "%%timeit\n",
    "for i in range(size):\n",
    "    ans[i] = math.tan(vals[i])"
   ]
  },
  {
   "cell_type": "code",
   "execution_count": 29,
   "id": "3127b1a6",
   "metadata": {},
   "outputs": [
    {
     "name": "stdout",
     "output_type": "stream",
     "text": [
      "803 ms ± 8.41 ms per loop (mean ± std. dev. of 7 runs, 1 loop each)\n"
     ]
    }
   ],
   "source": [
    "%%timeit\n",
    "for i in range(size):\n",
    "    nd_ans[i] = math.tan(nd[i])"
   ]
  },
  {
   "cell_type": "code",
   "execution_count": null,
   "id": "c2eae735",
   "metadata": {},
   "outputs": [],
   "source": []
  }
 ],
 "metadata": {
  "kernelspec": {
   "display_name": "Python 3 (ipykernel)",
   "language": "python",
   "name": "python3"
  },
  "language_info": {
   "codemirror_mode": {
    "name": "ipython",
    "version": 3
   },
   "file_extension": ".py",
   "mimetype": "text/x-python",
   "name": "python",
   "nbconvert_exporter": "python",
   "pygments_lexer": "ipython3",
   "version": "3.9.12"
  }
 },
 "nbformat": 4,
 "nbformat_minor": 5
}
