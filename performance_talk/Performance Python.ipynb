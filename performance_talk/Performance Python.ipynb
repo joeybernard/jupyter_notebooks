{
 "cells": [
  {
   "cell_type": "markdown",
   "id": "185023d8",
   "metadata": {},
   "source": [
    "# Performance Python\n",
    "\n",
    "In physics, we want to do calculations to either analyze existing data or to model physical processes. Very often, numerical methods courses will use a single programming language to teach various methods to do these types of calculations. The issue with this is that research groups will be using a variety of different languages, and the specifics of any particular numerical technique does not translate from one language to another.\n",
    "\n",
    "In this short talk, we will take a look at an easy problem. We will use matrix multiplication as our sample problem to see what happens when you don't take the eccentricities of your language into account."
   ]
  },
  {
   "cell_type": "markdown",
   "id": "7ee1216e",
   "metadata": {},
   "source": [
    "## Naive code reuse\n",
    "\n",
    "Many examples and texts will have code examples for various techniques written in older primitive languages, such as C or FORTRAN. These types of languages are strongly typed, and have no syntax to easily support techniques like object oriented programming. When you want to use these numerical techniques in more modern languages, you may see some unintended consequences.\n",
    "\n",
    "We will start by creating our initial two matrices for the rest of the talk. We will use the numpy module to generate a couple of large matrices with random floating point numbers in them."
   ]
  },
  {
   "cell_type": "code",
   "execution_count": 63,
   "id": "d170d833",
   "metadata": {},
   "outputs": [],
   "source": [
    "import numpy as np\n",
    "rows = 200\n",
    "cols = 200\n",
    "A = np.random.random((rows,cols))\n",
    "B = np.random.random((rows,cols))"
   ]
  },
  {
   "cell_type": "markdown",
   "id": "6e7769f4",
   "metadata": {},
   "source": [
    "From here, we might be tempted to just do the naive copy-paste of some matrix multiplication routine from C. When we do that, we might get something that looks like the following:"
   ]
  },
  {
   "cell_type": "code",
   "execution_count": 64,
   "id": "ba0d2ded",
   "metadata": {},
   "outputs": [
    {
     "name": "stdout",
     "output_type": "stream",
     "text": [
      "5.29 s ± 271 ms per loop (mean ± std. dev. of 7 runs, 1 loop each)\n"
     ]
    }
   ],
   "source": [
    "%%timeit\n",
    "C = np.zeros((rows,cols))\n",
    "\n",
    "i = 0\n",
    "while (i < rows):\n",
    "    j = 0\n",
    "    while (j < cols):\n",
    "        k = 0\n",
    "        while (k < rows):\n",
    "            C[i,j] += A[i,k] * B[k,j]\n",
    "            k += 1\n",
    "        j += 1\n",
    "    i += 1\n"
   ]
  },
  {
   "cell_type": "code",
   "execution_count": 65,
   "id": "d84f7db3",
   "metadata": {},
   "outputs": [
    {
     "data": {
      "text/plain": [
       "8297.66274749814"
      ]
     },
     "execution_count": 65,
     "metadata": {},
     "output_type": "execute_result"
    }
   ],
   "source": [
    "C[1,1]"
   ]
  },
  {
   "cell_type": "markdown",
   "id": "65f5566e",
   "metadata": {},
   "source": [
    "In jupyter, we have access to builtin functions to manage timing of code. This is the '%%timeit' at the top of the following code block.\n",
    "\n",
    "This is far from performant. The issue with this type of code is the object model in Python. Core Python is an untyped language. This means that any variable name can be used to refer to any type of object. So, whenever you use a variable anywhere in your code, Python needs to check what is referenced by that name and whether the operation you want to execute can be applied to that type of object. This means that Python is doing checks on every iteration of the loops above.\n",
    "\n",
    "We can remove some of these checks by doing the loops in a more Pythonic way."
   ]
  },
  {
   "cell_type": "code",
   "execution_count": 66,
   "id": "b99d7717",
   "metadata": {},
   "outputs": [
    {
     "name": "stdout",
     "output_type": "stream",
     "text": [
      "6.5 s ± 56.3 ms per loop (mean ± std. dev. of 7 runs, 1 loop each)\n"
     ]
    }
   ],
   "source": [
    "%%timeit\n",
    "C = np.zeros((rows,cols))\n",
    "\n",
    "for i in range(rows):\n",
    "    for j in range(cols):\n",
    "        for k in range(rows):\n",
    "            C[i][j] += A[k][i] * B[j][k]\n"
   ]
  },
  {
   "cell_type": "code",
   "execution_count": 67,
   "id": "61544dbc",
   "metadata": {},
   "outputs": [
    {
     "data": {
      "text/plain": [
       "8297.66274749814"
      ]
     },
     "execution_count": 67,
     "metadata": {},
     "output_type": "execute_result"
    }
   ],
   "source": [
    "C[1,1]"
   ]
  },
  {
   "cell_type": "markdown",
   "id": "93deb4ed",
   "metadata": {},
   "source": [
    "This spead things up a bit, but not as much we could do.\n",
    "\n",
    "\n",
    "## Using modules\n",
    "\n",
    "A huge advantage of Python is the large environment of modules made available. We already "
   ]
  }
 ],
 "metadata": {
  "kernelspec": {
   "display_name": "Python 3 (ipykernel)",
   "language": "python",
   "name": "python3"
  },
  "language_info": {
   "codemirror_mode": {
    "name": "ipython",
    "version": 3
   },
   "file_extension": ".py",
   "mimetype": "text/x-python",
   "name": "python",
   "nbconvert_exporter": "python",
   "pygments_lexer": "ipython3",
   "version": "3.11.0"
  }
 },
 "nbformat": 4,
 "nbformat_minor": 5
}
