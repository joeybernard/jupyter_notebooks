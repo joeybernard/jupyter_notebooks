{
 "cells": [
  {
   "cell_type": "markdown",
   "metadata": {},
   "source": [
    "# Home Energy Stuff\n",
    "This notebook looks at home energy and weather stats."
   ]
  },
  {
   "cell_type": "code",
   "execution_count": 4,
   "metadata": {},
   "outputs": [],
   "source": [
    "from datetime import *"
   ]
  },
  {
   "cell_type": "code",
   "execution_count": 8,
   "metadata": {},
   "outputs": [],
   "source": [
    "power_bills = [(datetime(2019, 1, 1),29, 42),\n",
    "              (datetime(2018, 1, 1), 32, 44),\n",
    "              (datetime(2018, 12, 1), 32, 36),\n",
    "              (datetime(2017, 12, 1), 29, 42),\n",
    "              (datetime(2018, 11, 1), 30, 25),\n",
    "              (datetime(2017, 11, 1), 30, 26),\n",
    "              (datetime(2018, 10, 1), 32, 15),\n",
    "              (datetime(2017, 10, 1), 32, 11),\n",
    "              (datetime(2018, 9, 1), 29, 13),\n",
    "              (datetime(2017, 9, 1), 29, 2),\n",
    "              (datetime(2018, 8, 1), 31, 11),\n",
    "              (datetime(2017, 8, 1), 33, 0),\n",
    "              (datetime(2018, 7, 1), 32, 10),\n",
    "              (datetime(2017, 7, 1), 24, 0),\n",
    "              (datetime(2018, 6, 1), 30, 13),\n",
    "              (datetime(2018, 5, 1), 32, 14),\n",
    "              (datetime(2018, 4, 1), )]"
   ]
  },
  {
   "cell_type": "code",
   "execution_count": null,
   "metadata": {},
   "outputs": [],
   "source": []
  }
 ],
 "metadata": {
  "kernelspec": {
   "display_name": "Python 3",
   "language": "python",
   "name": "python3"
  },
  "language_info": {
   "codemirror_mode": {
    "name": "ipython",
    "version": 3
   },
   "file_extension": ".py",
   "mimetype": "text/x-python",
   "name": "python",
   "nbconvert_exporter": "python",
   "pygments_lexer": "ipython3",
   "version": "3.6.7"
  }
 },
 "nbformat": 4,
 "nbformat_minor": 2
}
